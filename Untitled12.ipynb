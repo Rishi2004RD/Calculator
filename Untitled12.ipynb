{
  "nbformat": 4,
  "nbformat_minor": 0,
  "metadata": {
    "colab": {
      "provenance": [],
      "authorship_tag": "ABX9TyNtlxK0M4Srucv4+PTV5mmx",
      "include_colab_link": true
    },
    "kernelspec": {
      "name": "python3",
      "display_name": "Python 3"
    },
    "language_info": {
      "name": "python"
    }
  },
  "cells": [
    {
      "cell_type": "markdown",
      "metadata": {
        "id": "view-in-github",
        "colab_type": "text"
      },
      "source": [
        "<a href=\"https://colab.research.google.com/github/Rishi2004RD/Calculator/blob/main/Untitled12.ipynb\" target=\"_parent\"><img src=\"https://colab.research.google.com/assets/colab-badge.svg\" alt=\"Open In Colab\"/></a>"
      ]
    },
    {
      "cell_type": "code",
      "execution_count": 1,
      "metadata": {
        "colab": {
          "base_uri": "https://localhost:8080/"
        },
        "id": "ee04gpcVtPvy",
        "outputId": "5fd714a9-b701-4dca-8c50-9ed2394a3910"
      },
      "outputs": [
        {
          "output_type": "stream",
          "name": "stdout",
          "text": [
            "Happy Holi\n"
          ]
        }
      ],
      "source": [
        "print(\"Happy Holi\")"
      ]
    },
    {
      "cell_type": "code",
      "source": [
        "#Variable"
      ],
      "metadata": {
        "id": "IH-ftGlTth-p"
      },
      "execution_count": null,
      "outputs": []
    },
    {
      "cell_type": "code",
      "source": [
        "name = \"rishi\"\n",
        "print(name)"
      ],
      "metadata": {
        "id": "BGtlGw_otjyv"
      },
      "execution_count": null,
      "outputs": []
    },
    {
      "cell_type": "code",
      "source": [
        "age = 24\n",
        "print(age)"
      ],
      "metadata": {
        "id": "Re55Nmf1txsW"
      },
      "execution_count": null,
      "outputs": []
    },
    {
      "cell_type": "code",
      "source": [
        "name = input(\"enter your name:\")\n",
        "print(\"welcome\", name)"
      ],
      "metadata": {
        "colab": {
          "base_uri": "https://localhost:8080/"
        },
        "id": "-Dkecmzkt00J",
        "outputId": "ff82c49b-2516-461b-9ba5-569f00dce059"
      },
      "execution_count": 4,
      "outputs": [
        {
          "output_type": "stream",
          "name": "stdout",
          "text": [
            "enter your name:Golo\n",
            "welcome Golo\n"
          ]
        }
      ]
    },
    {
      "cell_type": "code",
      "source": [
        "age = input(\"enter your age:\")\n",
        "age = int (age)\n",
        "\n",
        "print(\"My age is\", age* 12 ,age)\n"
      ],
      "metadata": {
        "colab": {
          "base_uri": "https://localhost:8080/"
        },
        "id": "veG80uQNt4p_",
        "outputId": "60369150-0f6e-442b-ab54-d48e3c9e7d6a"
      },
      "execution_count": 6,
      "outputs": [
        {
          "output_type": "stream",
          "name": "stdout",
          "text": [
            "enter your age:45\n",
            "My age is 540 45\n"
          ]
        }
      ]
    },
    {
      "cell_type": "code",
      "source": [
        " num = 1\n",
        " string = \"akash\"\n",
        " decimal = 1.3\n",
        " boolean = True\n",
        " print(type(num))\n",
        " print(type(string))\n",
        " print(type(decimal))\n",
        " print(type(boolean))\n",
        ""
      ],
      "metadata": {
        "colab": {
          "base_uri": "https://localhost:8080/"
        },
        "id": "pvxw64pvujmK",
        "outputId": "8b703fb2-0832-4fc8-ad4e-8b3663873a76"
      },
      "execution_count": 7,
      "outputs": [
        {
          "output_type": "stream",
          "name": "stdout",
          "text": [
            "<class 'int'>\n",
            "<class 'str'>\n",
            "<class 'float'>\n",
            "<class 'bool'>\n"
          ]
        }
      ]
    },
    {
      "cell_type": "code",
      "source": [
        "a = 5\n",
        "b = 6\n",
        "print(\"Add\", a+ b)\n",
        "print(\"sub\", a - b)\n",
        "print(\"mul\", a* b)\n",
        "print(\"div\", a/b)\n",
        "print(\"mod\",a %b)\n",
        "print(\"Expo\",a**b)\n",
        "print(\"flor\", a//b)"
      ],
      "metadata": {
        "colab": {
          "base_uri": "https://localhost:8080/"
        },
        "id": "EKvIimoBvJLC",
        "outputId": "10c627b6-dfea-4e53-a294-08f2adb17f64"
      },
      "execution_count": 9,
      "outputs": [
        {
          "output_type": "stream",
          "name": "stdout",
          "text": [
            "Add 11\n",
            "sub -1\n",
            "mul 30\n",
            "div 0.8333333333333334\n",
            "mod 5\n",
            "Expo 15625\n",
            "flor 0\n"
          ]
        }
      ]
    },
    {
      "cell_type": "code",
      "source": [
        "#order of precedence PEDMAS\n",
        "print((5 *3)- 7+8/4)"
      ],
      "metadata": {
        "colab": {
          "base_uri": "https://localhost:8080/"
        },
        "id": "1Sth0jKXvLvT",
        "outputId": "c081965d-40a4-422f-b657-f4fd27a39c65"
      },
      "execution_count": 10,
      "outputs": [
        {
          "output_type": "stream",
          "name": "stdout",
          "text": [
            "10.0\n"
          ]
        }
      ]
    },
    {
      "cell_type": "code",
      "source": [
        "print(\"Aaj to holi hai\")\n",
        "len(string)\n",
        "string[0]\n",
        "string[-1]"
      ],
      "metadata": {
        "colab": {
          "base_uri": "https://localhost:8080/",
          "height": 53
        },
        "id": "ZiLbIxCCwRXX",
        "outputId": "d3d8aa88-24da-4e65-f888-db5e9c7c4501"
      },
      "execution_count": 16,
      "outputs": [
        {
          "output_type": "stream",
          "name": "stdout",
          "text": [
            "Aaj to holi hai\n"
          ]
        },
        {
          "output_type": "execute_result",
          "data": {
            "text/plain": [
              "'h'"
            ],
            "application/vnd.google.colaboratory.intrinsic+json": {
              "type": "string"
            }
          },
          "metadata": {},
          "execution_count": 16
        }
      ]
    },
    {
      "cell_type": "code",
      "source": [
        "string = \"There are lies damned lies and statistics. -Mark Twain\"\n",
        "string_sliced = string[0:45]\n",
        "print(string_sliced)\n"
      ],
      "metadata": {
        "colab": {
          "base_uri": "https://localhost:8080/"
        },
        "id": "PxDWnbQ7wUar",
        "outputId": "966a1413-e6e6-4927-911b-4f8b96d6ee82"
      },
      "execution_count": 17,
      "outputs": [
        {
          "output_type": "stream",
          "name": "stdout",
          "text": [
            "There are lies damned lies and statistics. -M\n"
          ]
        }
      ]
    },
    {
      "cell_type": "code",
      "source": [
        "sliced_string = string[30:40:2]\n",
        "print(sliced_string)\n"
      ],
      "metadata": {
        "colab": {
          "base_uri": "https://localhost:8080/"
        },
        "id": "S6U_oaafyIlB",
        "outputId": "ecad4191-8580-4a3b-8ec2-c0ff6a949e4b"
      },
      "execution_count": 18,
      "outputs": [
        {
          "output_type": "stream",
          "name": "stdout",
          "text": [
            " ttsi\n"
          ]
        }
      ]
    },
    {
      "cell_type": "code",
      "source": [
        "#membership\n",
        "string = \"Lasagna foer lunch!\"\n",
        "print(\"pizza\" in string)\n",
        "print('Fries' not in string)"
      ],
      "metadata": {
        "colab": {
          "base_uri": "https://localhost:8080/"
        },
        "id": "_vL8UBmkyTWE",
        "outputId": "915f6970-d130-40a8-8eab-c50a671987dc"
      },
      "execution_count": 22,
      "outputs": [
        {
          "output_type": "stream",
          "name": "stdout",
          "text": [
            "False\n",
            "True\n"
          ]
        }
      ]
    },
    {
      "cell_type": "code",
      "source": [
        "small = \"langar for lunch\"\n",
        "print(small.upper())"
      ],
      "metadata": {
        "id": "K3Coq52syyUi"
      },
      "execution_count": null,
      "outputs": []
    },
    {
      "cell_type": "code",
      "source": [
        "large = \"LagANA For Lunch\"\n",
        "print(large.lower())\n"
      ],
      "metadata": {
        "id": "oKtHq-ZKy3qs"
      },
      "execution_count": null,
      "outputs": []
    },
    {
      "cell_type": "code",
      "source": [
        "string= 'Langar of Lunch!'\n",
        "print(string)\n",
        "print(string.strip())"
      ],
      "metadata": {
        "id": "oR7Am2iwzTg6"
      },
      "execution_count": null,
      "outputs": []
    },
    {
      "cell_type": "code",
      "source": [
        "string = \"***********Langar  for Lunch!\"\n",
        "print(string)\n",
        "print(string.rstrip('#').lstrip('*'))\n"
      ],
      "metadata": {
        "colab": {
          "base_uri": "https://localhost:8080/"
        },
        "id": "2Qvp1hS6zW1G",
        "outputId": "be529d7c-7751-480d-ba32-ab196d0475a3"
      },
      "execution_count": 23,
      "outputs": [
        {
          "output_type": "stream",
          "name": "stdout",
          "text": [
            "***********Langar  for Lunch!\n",
            "Langar  for Lunch!\n"
          ]
        }
      ]
    },
    {
      "cell_type": "code",
      "source": [
        "#count()\n",
        "string = \"Langar for Lunch!\"\n",
        "print (string.count('a'))"
      ],
      "metadata": {
        "colab": {
          "base_uri": "https://localhost:8080/"
        },
        "id": "YseYc8hxz7zT",
        "outputId": "8f790166-6ee1-40b5-b7dd-123a27f1f7c7"
      },
      "execution_count": 24,
      "outputs": [
        {
          "output_type": "stream",
          "name": "stdout",
          "text": [
            "2\n"
          ]
        }
      ]
    }
  ]
}